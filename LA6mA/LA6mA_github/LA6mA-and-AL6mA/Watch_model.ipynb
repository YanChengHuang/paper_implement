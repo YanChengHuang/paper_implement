{
 "cells": [
  {
   "cell_type": "code",
   "execution_count": 26,
   "metadata": {},
   "outputs": [],
   "source": [
    "from keras.models import load_model\n",
    "from MyModel import AL6mA, LA6mA, AL6mA_al, LA6mA_al"
   ]
  },
  {
   "cell_type": "code",
   "execution_count": 28,
   "metadata": {},
   "outputs": [
    {
     "name": "stdout",
     "output_type": "stream",
     "text": [
      "Model: \"model_1\"\n",
      "__________________________________________________________________________________________________\n",
      " Layer (type)                   Output Shape         Param #     Connected to                     \n",
      "==================================================================================================\n",
      " input_1 (InputLayer)           [(None, 41, 4)]      0           []                               \n",
      "                                                                                                  \n",
      " bidirectional_1 (Bidirectional  (None, 41, 32)      9472        ['input_1[0][0]']                \n",
      " )                                                                                                \n",
      "                                                                                                  \n",
      " dropout_1 (Dropout)            (None, 41, 32)       0           ['bidirectional_1[0][0]']        \n",
      "                                                                                                  \n",
      " bidirectional_2 (Bidirectional  (None, 41, 32)      16640       ['dropout_1[0][0]']              \n",
      " )                                                                                                \n",
      "                                                                                                  \n",
      " dropout_2 (Dropout)            (None, 41, 32)       0           ['bidirectional_2[0][0]']        \n",
      "                                                                                                  \n",
      " permute_1 (Permute)            (None, 32, 41)       0           ['dropout_2[0][0]']              \n",
      "                                                                                                  \n",
      " reshape_1 (Reshape)            (None, 32, 41)       0           ['permute_1[0][0]']              \n",
      "                                                                                                  \n",
      " dense_1 (Dense)                (None, 32, 41)       1722        ['reshape_1[0][0]']              \n",
      "                                                                                                  \n",
      " attention_vec (Permute)        (None, 41, 32)       0           ['dense_1[0][0]']                \n",
      "                                                                                                  \n",
      " multiply_1 (Multiply)          (None, 41, 32)       0           ['dropout_2[0][0]',              \n",
      "                                                                  'attention_vec[0][0]']          \n",
      "                                                                                                  \n",
      " flatten_1 (Flatten)            (None, 1312)         0           ['multiply_1[0][0]']             \n",
      "                                                                                                  \n",
      " dense_2 (Dense)                (None, 100)          131300      ['flatten_1[0][0]']              \n",
      "                                                                                                  \n",
      " dense_3 (Dense)                (None, 1)            101         ['dense_2[0][0]']                \n",
      "                                                                                                  \n",
      "==================================================================================================\n",
      "Total params: 159,235\n",
      "Trainable params: 159,235\n",
      "Non-trainable params: 0\n",
      "__________________________________________________________________________________________________\n",
      "None\n",
      "-----\n",
      "Model: \"AL6mA\"\n",
      "__________________________________________________________________________________________________\n",
      " Layer (type)                   Output Shape         Param #     Connected to                     \n",
      "==================================================================================================\n",
      " input_1 (InputLayer)           [(None, 41, 4)]      0           []                               \n",
      "                                                                                                  \n",
      " permute (Permute)              (None, 4, 41)        0           ['input_1[0][0]']                \n",
      "                                                                                                  \n",
      " reshape (Reshape)              (None, 4, 41)        0           ['permute[0][0]']                \n",
      "                                                                                                  \n",
      " dense (Dense)                  (None, 4, 41)        1722        ['reshape[0][0]']                \n",
      "                                                                                                  \n",
      " attention_vec (Permute)        (None, 41, 4)        0           ['dense[0][0]']                  \n",
      "                                                                                                  \n",
      " multiply (Multiply)            (None, 41, 4)        0           ['input_1[0][0]',                \n",
      "                                                                  'attention_vec[0][0]']          \n",
      "                                                                                                  \n",
      " bidirectional (Bidirectional)  (None, 128)          136192      ['multiply[0][0]']               \n",
      "                                                                                                  \n",
      " dropout (Dropout)              (None, 128)          0           ['bidirectional[0][0]']          \n",
      "                                                                                                  \n",
      " dense_1 (Dense)                (None, 1)            129         ['dropout[0][0]']                \n",
      "                                                                                                  \n",
      "==================================================================================================\n",
      "Total params: 138,043\n",
      "Trainable params: 138,043\n",
      "Non-trainable params: 0\n",
      "__________________________________________________________________________________________________\n",
      "None\n",
      "-----\n",
      "Model: \"LA6mA\"\n",
      "__________________________________________________________________________________________________\n",
      " Layer (type)                   Output Shape         Param #     Connected to                     \n",
      "==================================================================================================\n",
      " input_1 (InputLayer)           [(None, 41, 4)]      0           []                               \n",
      "                                                                                                  \n",
      " bidirectional (Bidirectional)  (None, 41, 32)       9472        ['input_1[0][0]']                \n",
      "                                                                                                  \n",
      " dropout (Dropout)              (None, 41, 32)       0           ['bidirectional[0][0]']          \n",
      "                                                                                                  \n",
      " bidirectional_1 (Bidirectional  (None, 41, 32)      16640       ['dropout[0][0]']                \n",
      " )                                                                                                \n",
      "                                                                                                  \n",
      " dropout_1 (Dropout)            (None, 41, 32)       0           ['bidirectional_1[0][0]']        \n",
      "                                                                                                  \n",
      " permute (Permute)              (None, 32, 41)       0           ['dropout_1[0][0]']              \n",
      "                                                                                                  \n",
      " reshape (Reshape)              (None, 32, 41)       0           ['permute[0][0]']                \n",
      "                                                                                                  \n",
      " dense (Dense)                  (None, 32, 41)       1722        ['reshape[0][0]']                \n",
      "                                                                                                  \n",
      " attention_vec (Permute)        (None, 41, 32)       0           ['dense[0][0]']                  \n",
      "                                                                                                  \n",
      " multiply (Multiply)            (None, 41, 32)       0           ['dropout_1[0][0]',              \n",
      "                                                                  'attention_vec[0][0]']          \n",
      "                                                                                                  \n",
      " flatten (Flatten)              (None, 1312)         0           ['multiply[0][0]']               \n",
      "                                                                                                  \n",
      " dense_1 (Dense)                (None, 100)          131300      ['flatten[0][0]']                \n",
      "                                                                                                  \n",
      " dense_2 (Dense)                (None, 1)            101         ['dense_1[0][0]']                \n",
      "                                                                                                  \n",
      "==================================================================================================\n",
      "Total params: 159,235\n",
      "Trainable params: 159,235\n",
      "Non-trainable params: 0\n",
      "__________________________________________________________________________________________________\n",
      "None\n",
      "-----\n",
      "Model: \"AL6mA_AL\"\n",
      "__________________________________________________________________________________________________\n",
      " Layer (type)                   Output Shape         Param #     Connected to                     \n",
      "==================================================================================================\n",
      " input_1 (InputLayer)           [(None, 41, 4)]      0           []                               \n",
      "                                                                                                  \n",
      " permute (Permute)              (None, 4, 41)        0           ['input_1[0][0]']                \n",
      "                                                                                                  \n",
      " reshape (Reshape)              (None, 4, 41)        0           ['permute[0][0]']                \n",
      "                                                                                                  \n",
      " dense (Dense)                  (None, 4, 41)        1722        ['reshape[0][0]']                \n",
      "                                                                                                  \n",
      " attention_vec (Permute)        (None, 41, 4)        0           ['dense[0][0]']                  \n",
      "                                                                                                  \n",
      " multiply (Multiply)            (None, 41, 4)        0           ['input_1[0][0]',                \n",
      "                                                                  'attention_vec[0][0]']          \n",
      "                                                                                                  \n",
      " bidirectional (Bidirectional)  (None, 128)          136192      ['multiply[0][0]']               \n",
      "                                                                                                  \n",
      " dropout (Dropout)              (None, 128)          0           ['bidirectional[0][0]']          \n",
      "                                                                                                  \n",
      " dense_1 (Dense)                (None, 1)            129         ['dropout[0][0]']                \n",
      "                                                                                                  \n",
      "==================================================================================================\n",
      "Total params: 138,043\n",
      "Trainable params: 138,043\n",
      "Non-trainable params: 0\n",
      "__________________________________________________________________________________________________\n",
      "None\n",
      "-----\n",
      "Model: \"LA6mA_al\"\n",
      "_________________________________________________________________\n",
      " Layer (type)                Output Shape              Param #   \n",
      "=================================================================\n",
      " input_1 (InputLayer)        [(None, 41, 4)]           0         \n",
      "                                                                 \n",
      " bidirectional (Bidirectiona  (None, 41, 32)           9472      \n",
      " l)                                                              \n",
      "                                                                 \n",
      " dropout (Dropout)           (None, 41, 32)            0         \n",
      "                                                                 \n",
      " bidirectional_1 (Bidirectio  (None, 41, 32)           16640     \n",
      " nal)                                                            \n",
      "                                                                 \n",
      " dropout_1 (Dropout)         (None, 41, 32)            0         \n",
      "                                                                 \n",
      " flatten (Flatten)           (None, 1312)              0         \n",
      "                                                                 \n",
      " dense (Dense)               (None, 100)               131300    \n",
      "                                                                 \n",
      " dense_1 (Dense)             (None, 1)                 101       \n",
      "                                                                 \n",
      "=================================================================\n",
      "Total params: 157,513\n",
      "Trainable params: 157,513\n",
      "Non-trainable params: 0\n",
      "_________________________________________________________________\n",
      "None\n"
     ]
    }
   ],
   "source": [
    "model_path = \"model/example_model.h5\"\n",
    "m = load_model(model_path)\n",
    "AL = AL6mA()\n",
    "LA= LA6mA()\n",
    "print(m.summary())\n",
    "print(\"-----\")\n",
    "print(AL.summary())\n",
    "print(\"-----\")\n",
    "print(LA.summary())\n",
    "print(\"-----\")\n",
    "print(AL6mA_al().summary())\n",
    "print(\"-----\")\n",
    "print(LA6mA_al().summary())"
   ]
  },
  {
   "cell_type": "code",
   "execution_count": 29,
   "metadata": {},
   "outputs": [],
   "source": [
    "from keras.layers.core import Permute\n",
    "import numpy as np"
   ]
  },
  {
   "cell_type": "code",
   "execution_count": 47,
   "metadata": {},
   "outputs": [],
   "source": [
    "a = np.arange(5, 10).reshape(-1,1,5)"
   ]
  },
  {
   "cell_type": "code",
   "execution_count": 48,
   "metadata": {},
   "outputs": [
    {
     "data": {
      "text/plain": [
       "array([[[5, 6, 7, 8, 9]]])"
      ]
     },
     "execution_count": 48,
     "metadata": {},
     "output_type": "execute_result"
    }
   ],
   "source": [
    "a"
   ]
  },
  {
   "cell_type": "code",
   "execution_count": 50,
   "metadata": {},
   "outputs": [
    {
     "data": {
      "text/plain": [
       "<tf.Tensor: shape=(1, 5, 1), dtype=int32, numpy=\n",
       "array([[[5],\n",
       "        [6],\n",
       "        [7],\n",
       "        [8],\n",
       "        [9]]])>"
      ]
     },
     "execution_count": 50,
     "metadata": {},
     "output_type": "execute_result"
    }
   ],
   "source": [
    "b = Permute((2,1))(a)\n",
    "b"
   ]
  }
 ],
 "metadata": {
  "kernelspec": {
   "display_name": "Python 3.9.12 ('base')",
   "language": "python",
   "name": "python3"
  },
  "language_info": {
   "codemirror_mode": {
    "name": "ipython",
    "version": 3
   },
   "file_extension": ".py",
   "mimetype": "text/x-python",
   "name": "python",
   "nbconvert_exporter": "python",
   "pygments_lexer": "ipython3",
   "version": "3.9.12"
  },
  "orig_nbformat": 4,
  "vscode": {
   "interpreter": {
    "hash": "691d8bb0587a8780d42536fbec3017426c2ace19ae256cb549963adfb213d9b9"
   }
  }
 },
 "nbformat": 4,
 "nbformat_minor": 2
}
