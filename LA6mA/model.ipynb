{
 "cells": [
  {
   "cell_type": "code",
   "execution_count": 1,
   "metadata": {},
   "outputs": [
    {
     "ename": "ModuleNotFoundError",
     "evalue": "No module named 'tensorflow'",
     "output_type": "error",
     "traceback": [
      "\u001b[1;31m---------------------------------------------------------------------------\u001b[0m",
      "\u001b[1;31mModuleNotFoundError\u001b[0m                       Traceback (most recent call last)",
      "\u001b[1;32mc:\\Users\\Tuco\\Desktop\\paper_implement\\LA6mA\\model.ipynb Cell 1\u001b[0m in \u001b[0;36m<cell line: 1>\u001b[1;34m()\u001b[0m\n\u001b[1;32m----> <a href='vscode-notebook-cell:/c%3A/Users/Tuco/Desktop/paper_implement/LA6mA/model.ipynb#W1sZmlsZQ%3D%3D?line=0'>1</a>\u001b[0m \u001b[39mfrom\u001b[39;00m \u001b[39mtensorflow\u001b[39;00m \u001b[39mimport\u001b[39;00m keras\n\u001b[0;32m      <a href='vscode-notebook-cell:/c%3A/Users/Tuco/Desktop/paper_implement/LA6mA/model.ipynb#W1sZmlsZQ%3D%3D?line=1'>2</a>\u001b[0m \u001b[39mfrom\u001b[39;00m \u001b[39mkeras\u001b[39;00m\u001b[39m.\u001b[39;00m\u001b[39mmodels\u001b[39;00m \u001b[39mimport\u001b[39;00m Sequential\n\u001b[0;32m      <a href='vscode-notebook-cell:/c%3A/Users/Tuco/Desktop/paper_implement/LA6mA/model.ipynb#W1sZmlsZQ%3D%3D?line=2'>3</a>\u001b[0m \u001b[39mfrom\u001b[39;00m \u001b[39mkeras\u001b[39;00m \u001b[39mimport\u001b[39;00m regularizers\n",
      "\u001b[1;31mModuleNotFoundError\u001b[0m: No module named 'tensorflow'"
     ]
    }
   ],
   "source": [
    "from tensorflow import keras\n",
    "from keras.models import Sequential\n",
    "from keras import regularizers\n",
    "from keras.layers import Dense, Conv1D, MaxPooling1D, Dropout, Flatten, BatchNormalization, Bidirectional,LSTM\n",
    "import tensorflow as tf"
   ]
  },
  {
   "cell_type": "code",
   "execution_count": null,
   "metadata": {},
   "outputs": [],
   "source": [
    "def create_model(filter_num=256,filter_size=10,neurons=32):\n",
    "  model = Sequential() # Declare a sequential model\n",
    "  #1\n",
    "  model.add(Conv1D(filters=filter_num, kernel_size=filter_size, activation='relu', input_shape=(41, 4),padding=\"same\"))\n",
    "  model.add(MaxPooling1D(padding='same'))\n",
    "  model.add(BatchNormalization())\n",
    "  model.add(Dropout(0.5))\n",
    "  #2\n",
    "  model.add(Conv1D(filters=filter_num, kernel_size=filter_size ,activation='relu',padding=\"same\"))\n",
    "  model.add(MaxPooling1D(padding='same'))\n",
    "  model.add(BatchNormalization())\n",
    "  model.add(Dropout(0.5))\n",
    "  #3\n",
    "  model.add(Conv1D(filters=filter_num, kernel_size=filter_size ,activation='relu',padding=\"same\"))\n",
    "  model.add(MaxPooling1D(padding='same'))\n",
    "  model.add(BatchNormalization())\n",
    "  model.add(Dropout(0.5))\n",
    "  #4\n",
    "  model.add(Conv1D(filters=filter_num, kernel_size=filter_size ,activation='relu',padding=\"same\"))\n",
    "  model.add(MaxPooling1D(padding='same'))\n",
    "  model.add(BatchNormalization())\n",
    "  model.add(Dropout(0.5))\n",
    "  #5\n",
    "  model.add(Conv1D(filters=filter_num, kernel_size=filter_size ,activation='relu',padding=\"same\"))\n",
    "  model.add(MaxPooling1D(padding='same'))\n",
    "  model.add(BatchNormalization())\n",
    "  model.add(Dropout(0.5))\n",
    "  #BLSTM\n",
    "  model.add(Bidirectional(LSTM(32, activation='tanh',return_sequences=False)))\n",
    "  #fully connect\n",
    "  model.add(Dense(neurons, activation='relu'))\n",
    "  # Add a dense layer\n",
    "  model.add(Dense(1, activation='sigmoid'))\n",
    "  # See `model`\n",
    "  model.summary() \n",
    "  opt = keras.optimizers.Adam(learning_rate=0.01)\n",
    "  callback = tf.keras.callbacks.EarlyStopping(monitor='val_loss', patience=5)\n",
    "  # Compile model\n",
    "  model.compile(loss='binary_crossentropy', optimizer=opt, metrics=['accuracy'])\n",
    "  return model"
   ]
  }
 ],
 "metadata": {
  "kernelspec": {
   "display_name": "Python 3.9.12 ('base')",
   "language": "python",
   "name": "python3"
  },
  "language_info": {
   "codemirror_mode": {
    "name": "ipython",
    "version": 3
   },
   "file_extension": ".py",
   "mimetype": "text/x-python",
   "name": "python",
   "nbconvert_exporter": "python",
   "pygments_lexer": "ipython3",
   "version": "3.9.12"
  },
  "orig_nbformat": 4,
  "vscode": {
   "interpreter": {
    "hash": "691d8bb0587a8780d42536fbec3017426c2ace19ae256cb549963adfb213d9b9"
   }
  }
 },
 "nbformat": 4,
 "nbformat_minor": 2
}
