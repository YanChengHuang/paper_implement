{
 "cells": [
  {
   "cell_type": "code",
   "execution_count": 28,
   "source": [
    "with open('S.cerevisiae_data_negative.txt','r') as r:\r\n",
    "    lines=r.readlines()"
   ],
   "outputs": [],
   "metadata": {}
  },
  {
   "cell_type": "code",
   "execution_count": 27,
   "source": [
    "files =  open('S.cerevisiae_data_negative.txt','r+')\r\n",
    "lines=files.readlines()\r\n",
    "\r\n",
    "for i in range(17,2674,45):\r\n",
    "    lines[i] = ''\r\n",
    "files.close()\r\n",
    "files = open('S.cerevisiae_data_negative.txt','w+')\r\n",
    "lines = files.writelines(lines)\r\n",
    "files.close()"
   ],
   "outputs": [],
   "metadata": {}
  },
  {
   "cell_type": "code",
   "execution_count": null,
   "source": [
    "files = open('test.txt','r+')\r\n",
    "l4 = files.readlines()\r\n",
    "\r\n",
    "l4[4]= ''\r\n",
    "files.close()\r\n",
    "files = open('test.txt','w+')\r\n",
    "l4 = files.writelines(l4)\r\n",
    "files.close()"
   ],
   "outputs": [],
   "metadata": {}
  },
  {
   "cell_type": "code",
   "execution_count": null,
   "source": [
    "565,610,655"
   ],
   "outputs": [],
   "metadata": {}
  },
  {
   "cell_type": "code",
   "execution_count": 29,
   "source": [
    "for i in range(17,2674,45):\r\n",
    "    print(lines[i])"
   ],
   "outputs": [
    {
     "output_type": "stream",
     "name": "stdout",
     "text": [
      "CCCCAAGAUUGGUUUCCAAGUACAGACCAAACUGUCCAAUCAUCUUGGUUA\n",
      "\n",
      ">N32\n",
      "\n",
      "CAAUUGGAUAAUAAUCCCAUAAUGGACCUCAAUUUCGGUAUAAUCUUGCAG\n",
      "\n",
      ">N77\n",
      "\n",
      "UCAGUAAGUCGCCUGGUUCAAUCAGACGCCAUGCAUCAGUGAAUUUUUGAA\n",
      "\n",
      ">N122\n",
      "\n",
      "GAUGACUAUGAAGAGGAGGACGAAGACUAUAACGAUGAGGAAGAAGAUGUG\n",
      "\n",
      ">N167\n",
      "\n",
      "GAUUUGGAAGUAACGCUCGCCGUAGACAAGUAAGAAUGCCUGCUGUCUUGA\n",
      "\n",
      ">N212\n",
      "\n",
      "UUGCCCAGUGGAACUUUGACAGCAGACUUCCUUGCUGUAUUCAAUUUUGUC\n",
      "\n",
      ">N257\n",
      "\n",
      "UCGGAGGAAGCAACCGAUUGAGAAGACAUGUUUUCAUUUUUCCAGCAAUUC\n",
      "\n",
      ">N302\n",
      "\n",
      "AUGUCUGUCGGCCUGCUAUUUAGAGACAUUUUUUAUUGCAACAACCUACUC\n",
      "\n",
      ">N347\n",
      "\n",
      "CCUCUAGUUUUGGUGGUGAAGCAAGACAAUAACUAGCAAGGGCUCUCACUA\n",
      "\n",
      ">N392\n",
      "\n",
      "UAUGCACUCAUUUCCAUUGGCAAAGACUUGGCGAAAUUUAAUACACUGUAA\n",
      "\n",
      ">N437\n",
      "\n",
      "AUGGAAGGAAUUAUUUUCGAGAAAGACUAAAGUUUUUCAACGUUUAACGAU\n",
      "\n",
      ">N482\n",
      "\n",
      "AACCUAUAAUUGCUUUUUGUUGAGGACUUAUAGUGCUAGAAAUGGCUUCUU\n",
      "\n",
      ">N527\n",
      "\n",
      "AACUAGCUUAUGACUAUUAAAUCGGACUCUUAAUUUUUAGCUAAUAUCUCU\n",
      "\n",
      ">N572\n",
      "\n",
      "AGUCUCUUUAUUUUUACUGAACGGGACAUUCCACUUCAUUCAGGCAAUGAU\n",
      "\n",
      ">N617\n",
      "\n",
      "UCUAAAAUUUGUAGUCGAAUAUUAGACUCAGAUGAAAAGUUGCGUAAGAAC\n",
      "\n",
      ">N662\n",
      "\n",
      "UAAACGAAACGCCUUGUUGAAAAAGACCGAUAAAUAGAGGAAGCAACGGCA\n",
      "\n",
      ">N707\n",
      "\n",
      "UACCACCAAGACUACCUCUGCUAAGACUACCGCCGCUGCUGUCUCUCAAAU\n",
      "\n",
      ">N752\n",
      "\n",
      "CAUCGGCACGUAUUUCAUAAAAAGGACGUGAAGAACAAAAGGAACGAAGAA\n",
      "\n",
      ">N797\n",
      "\n",
      "UUUCUACAUCAACCUUUCAAACAAGACGGAGAAGAUUGAAGAAAGUGGAGG\n",
      "\n",
      ">N842\n",
      "\n",
      "UUCAAGAGCUCAGGAUGAAAACUAGACAAAAGGAACGAGAUUACCUUCAAC\n",
      "\n",
      ">N887\n",
      "\n",
      "CAUUUUCCGCAUCGGAAAACCUAAGACAAAUUUUGAUGAGUAUACUUGGUA\n",
      "\n",
      ">N932\n",
      "\n",
      "GAAACUGAAAUUGAGGUAUCACGAGACACAUGGAAUAGUAAGAAUAUGCGU\n",
      "\n",
      ">N977\n",
      "\n",
      "UUCUCGAGGAGUUGAAACAAGCGGGACAACUGCUACGUCAUAAAAAUGGGA\n",
      "\n",
      ">N1022\n",
      "\n",
      "GUAUUGAGGCUGUAGAGACACUUGGACGCGAACUCGAGAGAAUCCAAACUG\n",
      "\n",
      ">N1067\n",
      "\n",
      "GAAAAAACUCUGUAAAACUAAAAAGACAGAACACCAAAAUGUGGGGUACAA\n",
      "\n",
      ">N1112\n",
      "\n",
      "AUUGGUGGUGGACCCAACAACAAGGACAUUAACUUGUCUGGUCAAAUCUUU\n",
      "\n",
      ">N1157\n",
      "\n",
      "AUUCUGCGGACUAAACUCCCGCAGGACAGGUUGUAAAUGGCCUAAAAUUUG\n",
      "\n",
      ">N1202\n",
      "\n",
      "AUUAUUCAAAGUGAAUUUCGAGGAGACCGGUCAGUUCUUCAAUGGGUUGAA\n",
      "\n",
      ">N1247\n",
      "\n",
      "UAUUUUUGAUACCUGCAAAUCUAGGACAAGGUAUCACUUUUCCUACGACCU\n",
      "\n",
      ">N1292\n",
      "\n"
     ]
    },
    {
     "output_type": "error",
     "ename": "IndexError",
     "evalue": "list index out of range",
     "traceback": [
      "\u001b[1;31m---------------------------------------------------------------------------\u001b[0m",
      "\u001b[1;31mIndexError\u001b[0m                                Traceback (most recent call last)",
      "\u001b[1;32m<ipython-input-29-01dfe2aebdfe>\u001b[0m in \u001b[0;36m<module>\u001b[1;34m\u001b[0m\n\u001b[0;32m      1\u001b[0m \u001b[1;32mfor\u001b[0m \u001b[0mi\u001b[0m \u001b[1;32min\u001b[0m \u001b[0mrange\u001b[0m\u001b[1;33m(\u001b[0m\u001b[1;36m17\u001b[0m\u001b[1;33m,\u001b[0m\u001b[1;36m2674\u001b[0m\u001b[1;33m,\u001b[0m\u001b[1;36m45\u001b[0m\u001b[1;33m)\u001b[0m\u001b[1;33m:\u001b[0m\u001b[1;33m\u001b[0m\u001b[1;33m\u001b[0m\u001b[0m\n\u001b[1;32m----> 2\u001b[1;33m     \u001b[0mprint\u001b[0m\u001b[1;33m(\u001b[0m\u001b[0mlines\u001b[0m\u001b[1;33m[\u001b[0m\u001b[0mi\u001b[0m\u001b[1;33m]\u001b[0m\u001b[1;33m)\u001b[0m\u001b[1;33m\u001b[0m\u001b[1;33m\u001b[0m\u001b[0m\n\u001b[0m",
      "\u001b[1;31mIndexError\u001b[0m: list index out of range"
     ]
    }
   ],
   "metadata": {}
  }
 ],
 "metadata": {
  "orig_nbformat": 4,
  "language_info": {
   "name": "python",
   "version": "3.8.3",
   "mimetype": "text/x-python",
   "codemirror_mode": {
    "name": "ipython",
    "version": 3
   },
   "pygments_lexer": "ipython3",
   "nbconvert_exporter": "python",
   "file_extension": ".py"
  },
  "kernelspec": {
   "name": "python3",
   "display_name": "Python 3.8.3 64-bit ('base': conda)"
  },
  "interpreter": {
   "hash": "b6be1c2b2efa3580f5f571325bfb89f9358ff9f1cf299c38580d40e9d8406c23"
  }
 },
 "nbformat": 4,
 "nbformat_minor": 2
}