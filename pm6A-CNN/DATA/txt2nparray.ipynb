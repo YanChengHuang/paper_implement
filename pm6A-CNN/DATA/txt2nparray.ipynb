{
 "cells": [
  {
   "cell_type": "code",
   "execution_count": 55,
   "source": [
    "import pandas as pd\r\n",
    "import numpy as np"
   ],
   "outputs": [],
   "metadata": {}
  },
  {
   "cell_type": "code",
   "execution_count": 56,
   "source": [
    "H_sapiens_data = pd.read_csv('H.sapiens_data_negative.txt', delimiter=',',names = ['sequence'])\r\n",
    "H_sapiens_data"
   ],
   "outputs": [
    {
     "output_type": "execute_result",
     "data": {
      "text/plain": [
       "                                        sequence\n",
       "0                                           >N1 \n",
       "1     CUGUGACCUUACAGCUGAGAACUGUAACACAAGAGUGGAGC \n",
       "2                                           >N2 \n",
       "3     CACGUCCAUCUGAUGGCAGAACUGCUGGAAUUUUUGAGAUG \n",
       "4                                           >N3 \n",
       "...                                          ...\n",
       "2255  AUGAGAAACCUAAUGCUGAGACUGAAGCCUCUGGAUUCACC \n",
       "2256                                     >N1129 \n",
       "2257  ACACACUUUUUAUAAUAUGGACUUCUAAAAUCAUUAAAAGU \n",
       "2258                                     >N1130 \n",
       "2259  AACAUAUAAAGAAGGGUAGAACUGGAAAUUACUGGGGGCUU \n",
       "\n",
       "[2260 rows x 1 columns]"
      ],
      "text/html": [
       "<div>\n",
       "<style scoped>\n",
       "    .dataframe tbody tr th:only-of-type {\n",
       "        vertical-align: middle;\n",
       "    }\n",
       "\n",
       "    .dataframe tbody tr th {\n",
       "        vertical-align: top;\n",
       "    }\n",
       "\n",
       "    .dataframe thead th {\n",
       "        text-align: right;\n",
       "    }\n",
       "</style>\n",
       "<table border=\"1\" class=\"dataframe\">\n",
       "  <thead>\n",
       "    <tr style=\"text-align: right;\">\n",
       "      <th></th>\n",
       "      <th>sequence</th>\n",
       "    </tr>\n",
       "  </thead>\n",
       "  <tbody>\n",
       "    <tr>\n",
       "      <th>0</th>\n",
       "      <td>&gt;N1</td>\n",
       "    </tr>\n",
       "    <tr>\n",
       "      <th>1</th>\n",
       "      <td>CUGUGACCUUACAGCUGAGAACUGUAACACAAGAGUGGAGC</td>\n",
       "    </tr>\n",
       "    <tr>\n",
       "      <th>2</th>\n",
       "      <td>&gt;N2</td>\n",
       "    </tr>\n",
       "    <tr>\n",
       "      <th>3</th>\n",
       "      <td>CACGUCCAUCUGAUGGCAGAACUGCUGGAAUUUUUGAGAUG</td>\n",
       "    </tr>\n",
       "    <tr>\n",
       "      <th>4</th>\n",
       "      <td>&gt;N3</td>\n",
       "    </tr>\n",
       "    <tr>\n",
       "      <th>...</th>\n",
       "      <td>...</td>\n",
       "    </tr>\n",
       "    <tr>\n",
       "      <th>2255</th>\n",
       "      <td>AUGAGAAACCUAAUGCUGAGACUGAAGCCUCUGGAUUCACC</td>\n",
       "    </tr>\n",
       "    <tr>\n",
       "      <th>2256</th>\n",
       "      <td>&gt;N1129</td>\n",
       "    </tr>\n",
       "    <tr>\n",
       "      <th>2257</th>\n",
       "      <td>ACACACUUUUUAUAAUAUGGACUUCUAAAAUCAUUAAAAGU</td>\n",
       "    </tr>\n",
       "    <tr>\n",
       "      <th>2258</th>\n",
       "      <td>&gt;N1130</td>\n",
       "    </tr>\n",
       "    <tr>\n",
       "      <th>2259</th>\n",
       "      <td>AACAUAUAAAGAAGGGUAGAACUGGAAAUUACUGGGGGCUU</td>\n",
       "    </tr>\n",
       "  </tbody>\n",
       "</table>\n",
       "<p>2260 rows × 1 columns</p>\n",
       "</div>"
      ]
     },
     "metadata": {},
     "execution_count": 56
    }
   ],
   "metadata": {}
  },
  {
   "cell_type": "code",
   "execution_count": 57,
   "source": [
    "H_sapiens_data_list = [(H_sapiens_data['sequence'][i]) for i in range(len(H_sapiens_data)) if i % 2 == 1]\r\n",
    "for i in range(len(H_sapiens_data_list)):\r\n",
    "    H_sapiens_data_list[i] = H_sapiens_data_list[i][:-1]\r\n"
   ],
   "outputs": [],
   "metadata": {}
  },
  {
   "cell_type": "code",
   "execution_count": 58,
   "source": [
    "codes = ['A', 'C', 'G', 'U']\r\n",
    "NCP_code = {\r\n",
    "  'A':np.array([1,1,1]),\r\n",
    "  'C':np.array([0,0,1]),\r\n",
    "  'G':np.array([1,0,0]),\r\n",
    "  'U':np.array([0,1,0]),\r\n",
    "}\r\n",
    "def one_hot_encode(seq):\r\n",
    "    s = list(seq)    \r\n",
    "    x = np.zeros((len(seq),len(codes)),dtype=int)  \r\n",
    "    for i in range(len(seq)):\r\n",
    "      x[i,codes.index(s[i])] += 1\r\n",
    "    return x\r\n",
    "def NCP(seq):\r\n",
    "  x = np.zeros((len(seq),3),dtype=int)\r\n",
    "  for i in range(len(seq)):\r\n",
    "    x[i] = NCP_code[seq[i]]\r\n",
    "  return x  \r\n",
    "\r\n"
   ],
   "outputs": [],
   "metadata": {}
  },
  {
   "cell_type": "code",
   "execution_count": 59,
   "source": [
    "H_sapiens_data_array_one_hot = np.zeros((1130,41,4),dtype=int) \r\n",
    "for i in range(len(H_sapiens_data_list)):\r\n",
    "    H_sapiens_data_array_one_hot[i] = one_hot_encode(H_sapiens_data_list[i])\r\n",
    "\r\n",
    "H_sapiens_data_array_NCP = np.zeros((1130,41,3),dtype=int) \r\n",
    "for i in range(len(H_sapiens_data_list)):\r\n",
    "    H_sapiens_data_array_NCP[i] = NCP(H_sapiens_data_list[i])\r\n",
    "\r\n",
    "H_sapiens_data_array  = np.concatenate((H_sapiens_data_array_one_hot,H_sapiens_data_array_NCP),axis=2)\r\n",
    "H_sapiens_data_array.shape"
   ],
   "outputs": [
    {
     "output_type": "execute_result",
     "data": {
      "text/plain": [
       "(1130, 41, 7)"
      ]
     },
     "metadata": {},
     "execution_count": 59
    }
   ],
   "metadata": {}
  },
  {
   "cell_type": "code",
   "execution_count": 60,
   "source": [
    "H_sapiens_data_array[0]"
   ],
   "outputs": [
    {
     "output_type": "execute_result",
     "data": {
      "text/plain": [
       "array([[0, 1, 0, 0, 0, 0, 1],\n",
       "       [0, 0, 0, 1, 0, 1, 0],\n",
       "       [0, 0, 1, 0, 1, 0, 0],\n",
       "       [0, 0, 0, 1, 0, 1, 0],\n",
       "       [0, 0, 1, 0, 1, 0, 0],\n",
       "       [1, 0, 0, 0, 1, 1, 1],\n",
       "       [0, 1, 0, 0, 0, 0, 1],\n",
       "       [0, 1, 0, 0, 0, 0, 1],\n",
       "       [0, 0, 0, 1, 0, 1, 0],\n",
       "       [0, 0, 0, 1, 0, 1, 0],\n",
       "       [1, 0, 0, 0, 1, 1, 1],\n",
       "       [0, 1, 0, 0, 0, 0, 1],\n",
       "       [1, 0, 0, 0, 1, 1, 1],\n",
       "       [0, 0, 1, 0, 1, 0, 0],\n",
       "       [0, 1, 0, 0, 0, 0, 1],\n",
       "       [0, 0, 0, 1, 0, 1, 0],\n",
       "       [0, 0, 1, 0, 1, 0, 0],\n",
       "       [1, 0, 0, 0, 1, 1, 1],\n",
       "       [0, 0, 1, 0, 1, 0, 0],\n",
       "       [1, 0, 0, 0, 1, 1, 1],\n",
       "       [1, 0, 0, 0, 1, 1, 1],\n",
       "       [0, 1, 0, 0, 0, 0, 1],\n",
       "       [0, 0, 0, 1, 0, 1, 0],\n",
       "       [0, 0, 1, 0, 1, 0, 0],\n",
       "       [0, 0, 0, 1, 0, 1, 0],\n",
       "       [1, 0, 0, 0, 1, 1, 1],\n",
       "       [1, 0, 0, 0, 1, 1, 1],\n",
       "       [0, 1, 0, 0, 0, 0, 1],\n",
       "       [1, 0, 0, 0, 1, 1, 1],\n",
       "       [0, 1, 0, 0, 0, 0, 1],\n",
       "       [1, 0, 0, 0, 1, 1, 1],\n",
       "       [1, 0, 0, 0, 1, 1, 1],\n",
       "       [0, 0, 1, 0, 1, 0, 0],\n",
       "       [1, 0, 0, 0, 1, 1, 1],\n",
       "       [0, 0, 1, 0, 1, 0, 0],\n",
       "       [0, 0, 0, 1, 0, 1, 0],\n",
       "       [0, 0, 1, 0, 1, 0, 0],\n",
       "       [0, 0, 1, 0, 1, 0, 0],\n",
       "       [1, 0, 0, 0, 1, 1, 1],\n",
       "       [0, 0, 1, 0, 1, 0, 0],\n",
       "       [0, 1, 0, 0, 0, 0, 1]])"
      ]
     },
     "metadata": {},
     "execution_count": 60
    }
   ],
   "metadata": {}
  },
  {
   "cell_type": "code",
   "execution_count": 61,
   "source": [
    "np.save('H_sapiens_negative_data_array',H_sapiens_data_array)"
   ],
   "outputs": [],
   "metadata": {}
  }
 ],
 "metadata": {
  "orig_nbformat": 4,
  "language_info": {
   "name": "python",
   "version": "3.8.3",
   "mimetype": "text/x-python",
   "codemirror_mode": {
    "name": "ipython",
    "version": 3
   },
   "pygments_lexer": "ipython3",
   "nbconvert_exporter": "python",
   "file_extension": ".py"
  },
  "kernelspec": {
   "name": "python3",
   "display_name": "Python 3.8.3 64-bit ('base': conda)"
  },
  "interpreter": {
   "hash": "b6be1c2b2efa3580f5f571325bfb89f9358ff9f1cf299c38580d40e9d8406c23"
  }
 },
 "nbformat": 4,
 "nbformat_minor": 2
}