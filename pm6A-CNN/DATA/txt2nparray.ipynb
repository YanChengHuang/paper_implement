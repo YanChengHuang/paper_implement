{
 "cells": [
  {
   "cell_type": "code",
   "execution_count": 55,
   "metadata": {},
   "outputs": [],
   "source": [
    "import pandas as pd\n",
    "import numpy as np"
   ]
  },
  {
   "cell_type": "code",
   "execution_count": 56,
   "metadata": {},
   "outputs": [
    {
     "data": {
      "text/html": [
       "<div>\n",
       "<style scoped>\n",
       "    .dataframe tbody tr th:only-of-type {\n",
       "        vertical-align: middle;\n",
       "    }\n",
       "\n",
       "    .dataframe tbody tr th {\n",
       "        vertical-align: top;\n",
       "    }\n",
       "\n",
       "    .dataframe thead th {\n",
       "        text-align: right;\n",
       "    }\n",
       "</style>\n",
       "<table border=\"1\" class=\"dataframe\">\n",
       "  <thead>\n",
       "    <tr style=\"text-align: right;\">\n",
       "      <th></th>\n",
       "      <th>sequence</th>\n",
       "    </tr>\n",
       "  </thead>\n",
       "  <tbody>\n",
       "    <tr>\n",
       "      <th>0</th>\n",
       "      <td>&gt;N1</td>\n",
       "    </tr>\n",
       "    <tr>\n",
       "      <th>1</th>\n",
       "      <td>CUGUGACCUUACAGCUGAGAACUGUAACACAAGAGUGGAGC</td>\n",
       "    </tr>\n",
       "    <tr>\n",
       "      <th>2</th>\n",
       "      <td>&gt;N2</td>\n",
       "    </tr>\n",
       "    <tr>\n",
       "      <th>3</th>\n",
       "      <td>CACGUCCAUCUGAUGGCAGAACUGCUGGAAUUUUUGAGAUG</td>\n",
       "    </tr>\n",
       "    <tr>\n",
       "      <th>4</th>\n",
       "      <td>&gt;N3</td>\n",
       "    </tr>\n",
       "    <tr>\n",
       "      <th>...</th>\n",
       "      <td>...</td>\n",
       "    </tr>\n",
       "    <tr>\n",
       "      <th>2255</th>\n",
       "      <td>AUGAGAAACCUAAUGCUGAGACUGAAGCCUCUGGAUUCACC</td>\n",
       "    </tr>\n",
       "    <tr>\n",
       "      <th>2256</th>\n",
       "      <td>&gt;N1129</td>\n",
       "    </tr>\n",
       "    <tr>\n",
       "      <th>2257</th>\n",
       "      <td>ACACACUUUUUAUAAUAUGGACUUCUAAAAUCAUUAAAAGU</td>\n",
       "    </tr>\n",
       "    <tr>\n",
       "      <th>2258</th>\n",
       "      <td>&gt;N1130</td>\n",
       "    </tr>\n",
       "    <tr>\n",
       "      <th>2259</th>\n",
       "      <td>AACAUAUAAAGAAGGGUAGAACUGGAAAUUACUGGGGGCUU</td>\n",
       "    </tr>\n",
       "  </tbody>\n",
       "</table>\n",
       "<p>2260 rows × 1 columns</p>\n",
       "</div>"
      ],
      "text/plain": [
       "                                        sequence\n",
       "0                                           >N1 \n",
       "1     CUGUGACCUUACAGCUGAGAACUGUAACACAAGAGUGGAGC \n",
       "2                                           >N2 \n",
       "3     CACGUCCAUCUGAUGGCAGAACUGCUGGAAUUUUUGAGAUG \n",
       "4                                           >N3 \n",
       "...                                          ...\n",
       "2255  AUGAGAAACCUAAUGCUGAGACUGAAGCCUCUGGAUUCACC \n",
       "2256                                     >N1129 \n",
       "2257  ACACACUUUUUAUAAUAUGGACUUCUAAAAUCAUUAAAAGU \n",
       "2258                                     >N1130 \n",
       "2259  AACAUAUAAAGAAGGGUAGAACUGGAAAUUACUGGGGGCUU \n",
       "\n",
       "[2260 rows x 1 columns]"
      ]
     },
     "execution_count": 56,
     "metadata": {},
     "output_type": "execute_result"
    }
   ],
   "source": [
    "H_sapiens_data = pd.read_csv('H.sapiens_data_negative.txt', delimiter=',',names = ['sequence'])\n",
    "H_sapiens_data"
   ]
  },
  {
   "cell_type": "code",
   "execution_count": 57,
   "metadata": {},
   "outputs": [],
   "source": [
    "H_sapiens_data_list = [(H_sapiens_data['sequence'][i]) for i in range(len(H_sapiens_data)) if i % 2 == 1]\n",
    "for i in range(len(H_sapiens_data_list)):\n",
    "    H_sapiens_data_list[i] = H_sapiens_data_list[i][:-1]\n"
   ]
  },
  {
   "cell_type": "code",
   "execution_count": 58,
   "metadata": {},
   "outputs": [],
   "source": [
    "codes = ['A', 'C', 'G', 'U']\n",
    "NCP_code = {\n",
    "  'A':np.array([1,1,1]),\n",
    "  'C':np.array([0,0,1]),\n",
    "  'G':np.array([1,0,0]),\n",
    "  'U':np.array([0,1,0]),\n",
    "}\n",
    "def one_hot_encode(seq):\n",
    "    s = list(seq)    \n",
    "    x = np.zeros((len(seq),len(codes)),dtype=int)  \n",
    "    for i in range(len(seq)):\n",
    "      x[i,codes.index(s[i])] += 1\n",
    "    return x\n",
    "def NCP(seq):\n",
    "  x = np.zeros((len(seq),3),dtype=int)\n",
    "  for i in range(len(seq)):\n",
    "    x[i] = NCP_code[seq[i]]\n",
    "  return x  \n",
    "\n"
   ]
  },
  {
   "cell_type": "code",
   "execution_count": 59,
   "metadata": {},
   "outputs": [
    {
     "data": {
      "text/plain": [
       "(1130, 41, 7)"
      ]
     },
     "execution_count": 59,
     "metadata": {},
     "output_type": "execute_result"
    }
   ],
   "source": [
    "H_sapiens_data_array_one_hot = np.zeros((1130,41,4),dtype=int) \n",
    "for i in range(len(H_sapiens_data_list)):\n",
    "    H_sapiens_data_array_one_hot[i] = one_hot_encode(H_sapiens_data_list[i])\n",
    "\n",
    "H_sapiens_data_array_NCP = np.zeros((1130,41,3),dtype=int) \n",
    "for i in range(len(H_sapiens_data_list)):\n",
    "    H_sapiens_data_array_NCP[i] = NCP(H_sapiens_data_list[i])\n",
    "\n",
    "H_sapiens_data_array  = np.concatenate((H_sapiens_data_array_one_hot,H_sapiens_data_array_NCP),axis=2)\n",
    "H_sapiens_data_array.shape"
   ]
  },
  {
   "cell_type": "code",
   "execution_count": 60,
   "metadata": {},
   "outputs": [
    {
     "data": {
      "text/plain": [
       "array([[0, 1, 0, 0, 0, 0, 1],\n",
       "       [0, 0, 0, 1, 0, 1, 0],\n",
       "       [0, 0, 1, 0, 1, 0, 0],\n",
       "       [0, 0, 0, 1, 0, 1, 0],\n",
       "       [0, 0, 1, 0, 1, 0, 0],\n",
       "       [1, 0, 0, 0, 1, 1, 1],\n",
       "       [0, 1, 0, 0, 0, 0, 1],\n",
       "       [0, 1, 0, 0, 0, 0, 1],\n",
       "       [0, 0, 0, 1, 0, 1, 0],\n",
       "       [0, 0, 0, 1, 0, 1, 0],\n",
       "       [1, 0, 0, 0, 1, 1, 1],\n",
       "       [0, 1, 0, 0, 0, 0, 1],\n",
       "       [1, 0, 0, 0, 1, 1, 1],\n",
       "       [0, 0, 1, 0, 1, 0, 0],\n",
       "       [0, 1, 0, 0, 0, 0, 1],\n",
       "       [0, 0, 0, 1, 0, 1, 0],\n",
       "       [0, 0, 1, 0, 1, 0, 0],\n",
       "       [1, 0, 0, 0, 1, 1, 1],\n",
       "       [0, 0, 1, 0, 1, 0, 0],\n",
       "       [1, 0, 0, 0, 1, 1, 1],\n",
       "       [1, 0, 0, 0, 1, 1, 1],\n",
       "       [0, 1, 0, 0, 0, 0, 1],\n",
       "       [0, 0, 0, 1, 0, 1, 0],\n",
       "       [0, 0, 1, 0, 1, 0, 0],\n",
       "       [0, 0, 0, 1, 0, 1, 0],\n",
       "       [1, 0, 0, 0, 1, 1, 1],\n",
       "       [1, 0, 0, 0, 1, 1, 1],\n",
       "       [0, 1, 0, 0, 0, 0, 1],\n",
       "       [1, 0, 0, 0, 1, 1, 1],\n",
       "       [0, 1, 0, 0, 0, 0, 1],\n",
       "       [1, 0, 0, 0, 1, 1, 1],\n",
       "       [1, 0, 0, 0, 1, 1, 1],\n",
       "       [0, 0, 1, 0, 1, 0, 0],\n",
       "       [1, 0, 0, 0, 1, 1, 1],\n",
       "       [0, 0, 1, 0, 1, 0, 0],\n",
       "       [0, 0, 0, 1, 0, 1, 0],\n",
       "       [0, 0, 1, 0, 1, 0, 0],\n",
       "       [0, 0, 1, 0, 1, 0, 0],\n",
       "       [1, 0, 0, 0, 1, 1, 1],\n",
       "       [0, 0, 1, 0, 1, 0, 0],\n",
       "       [0, 1, 0, 0, 0, 0, 1]])"
      ]
     },
     "execution_count": 60,
     "metadata": {},
     "output_type": "execute_result"
    }
   ],
   "source": [
    "H_sapiens_data_array[0]"
   ]
  },
  {
   "cell_type": "code",
   "execution_count": 61,
   "metadata": {},
   "outputs": [],
   "source": [
    "np.save('H_sapiens_negative_data_array',H_sapiens_data_array)"
   ]
  }
 ],
 "metadata": {
  "kernelspec": {
   "display_name": "Python 3.9.12 ('base')",
   "language": "python",
   "name": "python3"
  },
  "language_info": {
   "codemirror_mode": {
    "name": "ipython",
    "version": 3
   },
   "file_extension": ".py",
   "mimetype": "text/x-python",
   "name": "python",
   "nbconvert_exporter": "python",
   "pygments_lexer": "ipython3",
   "version": "3.9.12"
  },
  "orig_nbformat": 4,
  "vscode": {
   "interpreter": {
    "hash": "691d8bb0587a8780d42536fbec3017426c2ace19ae256cb549963adfb213d9b9"
   }
  }
 },
 "nbformat": 4,
 "nbformat_minor": 2
}
